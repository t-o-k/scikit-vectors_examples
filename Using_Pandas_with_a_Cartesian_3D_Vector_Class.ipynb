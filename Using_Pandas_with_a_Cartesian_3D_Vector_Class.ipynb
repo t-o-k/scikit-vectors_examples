{
 "cells": [
  {
   "cell_type": "markdown",
   "metadata": {},
   "source": [
    "# Using Pandas with a Cartesian 3D Vector Class"
   ]
  },
  {
   "cell_type": "markdown",
   "metadata": {},
   "source": [
    "Copyright (c) 2017, 2019 Tor Olav Kristensen, http://subcube.com\n",
    "\n",
    "https://github.com/t-o-k/scikit-vectors\n",
    "\n",
    "Use of this source code is governed by a BSD-license that can be found in the LICENSE file."
   ]
  },
  {
   "cell_type": "code",
   "execution_count": 1,
   "metadata": {},
   "outputs": [],
   "source": [
    "# This example has been tested with NumPy v1.15.3, Pandas v0.22.0 and Jupyter v4.4.0"
   ]
  },
  {
   "cell_type": "code",
   "execution_count": 2,
   "metadata": {
    "scrolled": false
   },
   "outputs": [],
   "source": [
    "from datetime import datetime\n",
    "import numpy as np\n",
    "import pandas as pd\n",
    "\n",
    "from skvectors import create_class_Cartesian_3D_Vector"
   ]
  },
  {
   "cell_type": "code",
   "execution_count": 3,
   "metadata": {},
   "outputs": [
    {
     "data": {
      "text/plain": [
       "DatetimeIndex(['2017-01-01 00:00:00', '2017-01-01 01:00:00',\n",
       "               '2017-01-01 02:00:00', '2017-01-01 03:00:00',\n",
       "               '2017-01-01 04:00:00', '2017-01-01 05:00:00',\n",
       "               '2017-01-01 06:00:00', '2017-01-01 07:00:00',\n",
       "               '2017-01-01 08:00:00', '2017-01-01 09:00:00',\n",
       "               ...\n",
       "               '2017-01-07 15:00:00', '2017-01-07 16:00:00',\n",
       "               '2017-01-07 17:00:00', '2017-01-07 18:00:00',\n",
       "               '2017-01-07 19:00:00', '2017-01-07 20:00:00',\n",
       "               '2017-01-07 21:00:00', '2017-01-07 22:00:00',\n",
       "               '2017-01-07 23:00:00', '2017-01-08 00:00:00'],\n",
       "              dtype='datetime64[ns]', length=169, freq='H')"
      ]
     },
     "execution_count": 3,
     "metadata": {},
     "output_type": "execute_result"
    }
   ],
   "source": [
    "date_rng = pd.date_range(start='2017-01-01', end='2017-01-08', freq='H')\n",
    "\n",
    "date_rng"
   ]
  },
  {
   "cell_type": "code",
   "execution_count": 4,
   "metadata": {},
   "outputs": [],
   "source": [
    "S3 = \\\n",
    "    create_class_Cartesian_3D_Vector(\n",
    "        name = 'S3',\n",
    "        component_names = 'xyz',\n",
    "        brackets = '<>',\n",
    "        sep = ', ',\n",
    "        cnull = pd.Series(0, index=date_rng),\n",
    "        cunit = pd.Series(1, index=date_rng),\n",
    "        functions = \\\n",
    "            {\n",
    "                'not': np.logical_not,\n",
    "                'and': np.logical_and,\n",
    "                'or': np.logical_or,\n",
    "                'all': np.all,\n",
    "                'any': np.any,\n",
    "                'min': np.minimum,\n",
    "                'max': np.maximum,\n",
    "                'abs': np.absolute,\n",
    "                'int': np.rint,\n",
    "                'ceil': np.ceil,\n",
    "                'copysign': np.copysign,\n",
    "                'log10': np.log10,\n",
    "                'cos': np.cos,\n",
    "                'sin': np.sin,\n",
    "                'atan2': np.arctan2,\n",
    "                'pi': np.pi\n",
    "            }\n",
    "    )"
   ]
  },
  {
   "cell_type": "code",
   "execution_count": 5,
   "metadata": {},
   "outputs": [
    {
     "data": {
      "text/plain": [
       "2017-01-01 00:00:00    0\n",
       "2017-01-01 01:00:00    0\n",
       "2017-01-01 02:00:00    0\n",
       "2017-01-01 03:00:00    0\n",
       "2017-01-01 04:00:00    0\n",
       "Freq: H, dtype: int64"
      ]
     },
     "execution_count": 5,
     "metadata": {},
     "output_type": "execute_result"
    }
   ],
   "source": [
    "S3.component_null().head()"
   ]
  },
  {
   "cell_type": "code",
   "execution_count": 6,
   "metadata": {},
   "outputs": [
    {
     "data": {
      "text/plain": [
       "2017-01-01 00:00:00    1\n",
       "2017-01-01 01:00:00    1\n",
       "2017-01-01 02:00:00    1\n",
       "2017-01-01 03:00:00    1\n",
       "2017-01-01 04:00:00    1\n",
       "Freq: H, dtype: int64"
      ]
     },
     "execution_count": 6,
     "metadata": {},
     "output_type": "execute_result"
    }
   ],
   "source": [
    "S3.component_unit().head()"
   ]
  },
  {
   "cell_type": "code",
   "execution_count": 7,
   "metadata": {},
   "outputs": [
    {
     "data": {
      "text/plain": [
       "169"
      ]
     },
     "execution_count": 7,
     "metadata": {},
     "output_type": "execute_result"
    }
   ],
   "source": [
    "clength = len(date_rng)\n",
    "\n",
    "clength"
   ]
  },
  {
   "cell_type": "code",
   "execution_count": 8,
   "metadata": {
    "scrolled": false
   },
   "outputs": [
    {
     "data": {
      "text/plain": [
       "S3(x=2017-01-01 00:00:00    31\n",
       "2017-01-01 01:00:00   -41\n",
       "2017-01-01 02:00:00    -4\n",
       "2017-01-01 03:00:00    41\n",
       "2017-01-01 04:00:00   -43\n",
       "Freq: H, dtype: int64, y=2017-01-01 00:00:00    44\n",
       "2017-01-01 01:00:00    41\n",
       "2017-01-01 02:00:00    45\n",
       "2017-01-01 03:00:00    25\n",
       "2017-01-01 04:00:00   -44\n",
       "Freq: H, dtype: int64, z=2017-01-01 00:00:00    -6\n",
       "2017-01-01 01:00:00   -18\n",
       "2017-01-01 02:00:00   -48\n",
       "2017-01-01 03:00:00    34\n",
       "2017-01-01 04:00:00    45\n",
       "Freq: H, dtype: int64)"
      ]
     },
     "execution_count": 8,
     "metadata": {},
     "output_type": "execute_result"
    }
   ],
   "source": [
    "u = \\\n",
    "    S3(\n",
    "        np.random.randint(0, 100, size=clength),\n",
    "        np.random.randint(0, 100, size=clength),\n",
    "        np.random.randint(0, 100, size=clength)\n",
    "    )\n",
    "u -= 50\n",
    "\n",
    "u(pd.Series.head)"
   ]
  },
  {
   "cell_type": "code",
   "execution_count": 9,
   "metadata": {
    "scrolled": false
   },
   "outputs": [
    {
     "data": {
      "text/plain": [
       "S3(x=2017-01-07 20:00:00    1\n",
       "2017-01-07 21:00:00    1\n",
       "2017-01-07 22:00:00    1\n",
       "2017-01-07 23:00:00    1\n",
       "2017-01-08 00:00:00    1\n",
       "Freq: H, dtype: int64, y=2017-01-07 20:00:00    2\n",
       "2017-01-07 21:00:00    2\n",
       "2017-01-07 22:00:00    2\n",
       "2017-01-07 23:00:00    2\n",
       "2017-01-08 00:00:00    2\n",
       "Freq: H, dtype: int64, z=2017-01-07 20:00:00    3\n",
       "2017-01-07 21:00:00    3\n",
       "2017-01-07 22:00:00    3\n",
       "2017-01-07 23:00:00    3\n",
       "2017-01-08 00:00:00    3\n",
       "Freq: H, dtype: int64)"
      ]
     },
     "execution_count": 9,
     "metadata": {},
     "output_type": "execute_result"
    }
   ],
   "source": [
    "v = S3(1, 2, 3)\n",
    "\n",
    "v(pd.Series.tail)"
   ]
  },
  {
   "cell_type": "code",
   "execution_count": 10,
   "metadata": {},
   "outputs": [
    {
     "data": {
      "text/plain": [
       "S3(x=2017-01-07 20:00:00   -0.374649\n",
       "2017-01-07 21:00:00    0.793174\n",
       "2017-01-07 22:00:00    0.756430\n",
       "2017-01-07 23:00:00    0.880247\n",
       "2017-01-08 00:00:00    0.142128\n",
       "Freq: H, dtype: float64, y=2017-01-07 20:00:00    0.824228\n",
       "2017-01-07 21:00:00    0.350472\n",
       "2017-01-07 22:00:00   -0.631842\n",
       "2017-01-07 23:00:00    0.203134\n",
       "2017-01-08 00:00:00    0.801084\n",
       "Freq: H, dtype: float64, z=2017-01-07 20:00:00   -0.424602\n",
       "2017-01-07 21:00:00   -0.498040\n",
       "2017-01-07 22:00:00    0.169084\n",
       "2017-01-07 23:00:00   -0.428838\n",
       "2017-01-08 00:00:00   -0.581432\n",
       "Freq: H, dtype: float64)"
      ]
     },
     "execution_count": 10,
     "metadata": {},
     "output_type": "execute_result"
    }
   ],
   "source": [
    "w = u.cross(v).normalize()\n",
    "\n",
    "w(pd.Series.tail)"
   ]
  },
  {
   "cell_type": "code",
   "execution_count": 11,
   "metadata": {},
   "outputs": [
    {
     "data": {
      "text/plain": [
       "S3(x=2017-01-07 20:00:00   -0.0\n",
       "2017-01-07 21:00:00    2.5\n",
       "2017-01-07 22:00:00    2.5\n",
       "2017-01-07 23:00:00    2.5\n",
       "2017-01-08 00:00:00    2.5\n",
       "Freq: H, dtype: float64, y=2017-01-07 20:00:00    2.5\n",
       "2017-01-07 21:00:00    2.5\n",
       "2017-01-07 22:00:00   -0.0\n",
       "2017-01-07 23:00:00    2.5\n",
       "2017-01-08 00:00:00    2.5\n",
       "Freq: H, dtype: float64, z=2017-01-07 20:00:00   -0.0\n",
       "2017-01-07 21:00:00   -0.0\n",
       "2017-01-07 22:00:00    2.5\n",
       "2017-01-07 23:00:00   -0.0\n",
       "2017-01-08 00:00:00   -0.0\n",
       "Freq: H, dtype: float64)"
      ]
     },
     "execution_count": 11,
     "metadata": {},
     "output_type": "execute_result"
    }
   ],
   "source": [
    "c = 2.5 * w(np.ceil)\n",
    "\n",
    "c(pd.Series.tail)"
   ]
  },
  {
   "cell_type": "code",
   "execution_count": 12,
   "metadata": {},
   "outputs": [
    {
     "data": {
      "text/plain": [
       "2017-01-07 20:00:00   -0.374649\n",
       "2017-01-07 21:00:00    0.793174\n",
       "2017-01-07 22:00:00    0.756430\n",
       "2017-01-07 23:00:00    0.880247\n",
       "2017-01-08 00:00:00    0.142128\n",
       "Freq: H, dtype: float64"
      ]
     },
     "execution_count": 12,
     "metadata": {},
     "output_type": "execute_result"
    }
   ],
   "source": [
    "w.x.tail()"
   ]
  },
  {
   "cell_type": "code",
   "execution_count": 13,
   "metadata": {},
   "outputs": [
    {
     "data": {
      "text/plain": [
       "pandas.core.series.Series"
      ]
     },
     "execution_count": 13,
     "metadata": {},
     "output_type": "execute_result"
    }
   ],
   "source": [
    "type(w.x)"
   ]
  },
  {
   "cell_type": "code",
   "execution_count": 14,
   "metadata": {},
   "outputs": [
    {
     "data": {
      "text/plain": [
       "DatetimeIndex(['2017-01-07 20:00:00', '2017-01-07 21:00:00',\n",
       "               '2017-01-07 22:00:00', '2017-01-07 23:00:00',\n",
       "               '2017-01-08 00:00:00'],\n",
       "              dtype='datetime64[ns]', freq='H')"
      ]
     },
     "execution_count": 14,
     "metadata": {},
     "output_type": "execute_result"
    }
   ],
   "source": [
    "w.x.index[-5:]"
   ]
  },
  {
   "cell_type": "code",
   "execution_count": 15,
   "metadata": {},
   "outputs": [
    {
     "data": {
      "text/plain": [
       "array([-0.37464893,  0.79317435,  0.75643016,  0.8802468 ,  0.14212788])"
      ]
     },
     "execution_count": 15,
     "metadata": {},
     "output_type": "execute_result"
    }
   ],
   "source": [
    "w.x.values[-5:]"
   ]
  },
  {
   "cell_type": "code",
   "execution_count": 16,
   "metadata": {},
   "outputs": [
    {
     "data": {
      "text/plain": [
       "numpy.ndarray"
      ]
     },
     "execution_count": 16,
     "metadata": {},
     "output_type": "execute_result"
    }
   ],
   "source": [
    "type(w.x.values)"
   ]
  },
  {
   "cell_type": "code",
   "execution_count": 17,
   "metadata": {},
   "outputs": [
    {
     "data": {
      "text/html": [
       "<div>\n",
       "<style scoped>\n",
       "    .dataframe tbody tr th:only-of-type {\n",
       "        vertical-align: middle;\n",
       "    }\n",
       "\n",
       "    .dataframe tbody tr th {\n",
       "        vertical-align: top;\n",
       "    }\n",
       "\n",
       "    .dataframe thead th {\n",
       "        text-align: right;\n",
       "    }\n",
       "</style>\n",
       "<table border=\"1\" class=\"dataframe\">\n",
       "  <thead>\n",
       "    <tr style=\"text-align: right;\">\n",
       "      <th></th>\n",
       "      <th>x</th>\n",
       "      <th>y</th>\n",
       "      <th>z</th>\n",
       "    </tr>\n",
       "  </thead>\n",
       "  <tbody>\n",
       "    <tr>\n",
       "      <th>2017-01-07 20:00:00</th>\n",
       "      <td>-0.374649</td>\n",
       "      <td>0.824228</td>\n",
       "      <td>-0.424602</td>\n",
       "    </tr>\n",
       "    <tr>\n",
       "      <th>2017-01-07 21:00:00</th>\n",
       "      <td>0.793174</td>\n",
       "      <td>0.350472</td>\n",
       "      <td>-0.498040</td>\n",
       "    </tr>\n",
       "    <tr>\n",
       "      <th>2017-01-07 22:00:00</th>\n",
       "      <td>0.756430</td>\n",
       "      <td>-0.631842</td>\n",
       "      <td>0.169084</td>\n",
       "    </tr>\n",
       "    <tr>\n",
       "      <th>2017-01-07 23:00:00</th>\n",
       "      <td>0.880247</td>\n",
       "      <td>0.203134</td>\n",
       "      <td>-0.428838</td>\n",
       "    </tr>\n",
       "    <tr>\n",
       "      <th>2017-01-08 00:00:00</th>\n",
       "      <td>0.142128</td>\n",
       "      <td>0.801084</td>\n",
       "      <td>-0.581432</td>\n",
       "    </tr>\n",
       "  </tbody>\n",
       "</table>\n",
       "</div>"
      ],
      "text/plain": [
       "                            x         y         z\n",
       "2017-01-07 20:00:00 -0.374649  0.824228 -0.424602\n",
       "2017-01-07 21:00:00  0.793174  0.350472 -0.498040\n",
       "2017-01-07 22:00:00  0.756430 -0.631842  0.169084\n",
       "2017-01-07 23:00:00  0.880247  0.203134 -0.428838\n",
       "2017-01-08 00:00:00  0.142128  0.801084 -0.581432"
      ]
     },
     "execution_count": 17,
     "metadata": {},
     "output_type": "execute_result"
    }
   ],
   "source": [
    "df = pd.DataFrame(w.as_dict())\n",
    "\n",
    "df.tail()"
   ]
  },
  {
   "cell_type": "code",
   "execution_count": 18,
   "metadata": {},
   "outputs": [
    {
     "data": {
      "text/plain": [
       "array([[-0.37464893,  0.82422765, -0.42460212],\n",
       "       [ 0.79317435,  0.35047239, -0.49803971],\n",
       "       [ 0.75643016, -0.63184166,  0.16908439],\n",
       "       [ 0.8802468 ,  0.20313388, -0.42883819],\n",
       "       [ 0.14212788,  0.80108441, -0.58143223]])"
      ]
     },
     "execution_count": 18,
     "metadata": {},
     "output_type": "execute_result"
    }
   ],
   "source": [
    "a = np.array(w).T\n",
    "\n",
    "a[-5:]"
   ]
  },
  {
   "cell_type": "code",
   "execution_count": null,
   "metadata": {},
   "outputs": [],
   "source": []
  }
 ],
 "metadata": {
  "kernelspec": {
   "display_name": "Python 3",
   "language": "python",
   "name": "python3"
  },
  "language_info": {
   "codemirror_mode": {
    "name": "ipython",
    "version": 3
   },
   "file_extension": ".py",
   "mimetype": "text/x-python",
   "name": "python",
   "nbconvert_exporter": "python",
   "pygments_lexer": "ipython3",
   "version": "3.6.7"
  }
 },
 "nbformat": 4,
 "nbformat_minor": 2
}
