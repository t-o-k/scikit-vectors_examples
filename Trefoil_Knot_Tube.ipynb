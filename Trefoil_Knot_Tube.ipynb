{
 "cells": [
  {
   "cell_type": "markdown",
   "metadata": {},
   "source": [
    "# Creating a tube along a trefoil knot\n",
    "# - using Matplotlib, NumPy and scikit-vectors"
   ]
  },
  {
   "cell_type": "markdown",
   "metadata": {},
   "source": [
    "Copyright (c) 2017, 2019 Tor Olav Kristensen, http://subcube.com\n",
    "\n",
    "https://github.com/t-o-k/scikit-vectors\n",
    "\n",
    "Use of this source code is governed by a BSD-license that can be found in the LICENSE file."
   ]
  },
  {
   "cell_type": "code",
   "execution_count": 1,
   "metadata": {},
   "outputs": [],
   "source": [
    "url = 'https://github.com/t-o-k/scikit-vectors_examples/'"
   ]
  },
  {
   "cell_type": "code",
   "execution_count": 2,
   "metadata": {},
   "outputs": [],
   "source": [
    "# This example has been tested with NumPy v1.15.3, Matplotlib v2.1.1 and Jupyter v4.4.0"
   ]
  },
  {
   "cell_type": "code",
   "execution_count": 3,
   "metadata": {},
   "outputs": [
    {
     "name": "stdout",
     "output_type": "stream",
     "text": [
      "Using matplotlib backend: TkAgg\n"
     ]
    }
   ],
   "source": [
    "# Uncomment one of these to get a Matplotlib backend with interactive plots \n",
    "\n",
    "# %matplotlib auto\n",
    "# %matplotlib notebook"
   ]
  },
  {
   "cell_type": "code",
   "execution_count": 4,
   "metadata": {},
   "outputs": [],
   "source": [
    "# Get the necessary libraries\n",
    "\n",
    "import matplotlib.colors as colors\n",
    "import matplotlib.pyplot as plt\n",
    "import matplotlib.tri as mtri\n",
    "from mpl_toolkits.mplot3d import Axes3D\n",
    "from mpl_toolkits.mplot3d.art3d import Poly3DCollection\n",
    "import numpy as np\n",
    "\n",
    "from skvectors import create_class_Cartesian_3D_Vector"
   ]
  },
  {
   "cell_type": "code",
   "execution_count": 5,
   "metadata": {},
   "outputs": [],
   "source": [
    "# Size and resolution for Matplotlib figures\n",
    "\n",
    "figure_size = (8, 6)\n",
    "figure_dpi = 100"
   ]
  },
  {
   "cell_type": "code",
   "execution_count": 6,
   "metadata": {},
   "outputs": [],
   "source": [
    "# The functions for the trefoil knot curve\n",
    "\n",
    "def f_x(t):\n",
    "\n",
    "    return +np.cos(t) + 2 * np.cos(2 * t)\n",
    "\n",
    "\n",
    "def f_y(t):\n",
    "\n",
    "    return +np.sin(t) - 2 * np.sin(2 * t)\n",
    "\n",
    "\n",
    "def f_z(t):\n",
    "\n",
    "    return +2 * np.sin(3 * t)"
   ]
  },
  {
   "cell_type": "code",
   "execution_count": 7,
   "metadata": {},
   "outputs": [],
   "source": [
    "# The first derivatives of the functions for the curve\n",
    "\n",
    "def d1_f_x(t):\n",
    "\n",
    "    return -np.sin(t) - 4 * np.sin(2 * t)\n",
    "\n",
    "\n",
    "def d1_f_y(t):\n",
    "\n",
    "    return +np.cos(t) - 4 * np.cos(2 * t)\n",
    "\n",
    "\n",
    "def d1_f_z(t):\n",
    "\n",
    "    return +6 * np.cos(3 * t)"
   ]
  },
  {
   "cell_type": "code",
   "execution_count": 8,
   "metadata": {},
   "outputs": [],
   "source": [
    "# The second derivatives of the functions for the curve\n",
    "\n",
    "def d2_f_x(t):\n",
    "\n",
    "    return -np.cos(t) - 8 * np.cos(2 * t)\n",
    "\n",
    "\n",
    "def d2_f_y(t):\n",
    "\n",
    "    return -np.sin(t) + 8 * np.sin(2 * t)\n",
    "\n",
    "\n",
    "def d2_f_z(t):\n",
    "\n",
    "    return -18 * np.sin(3 * t)"
   ]
  },
  {
   "cell_type": "code",
   "execution_count": 9,
   "metadata": {},
   "outputs": [],
   "source": [
    "# Resolutions for plot\n",
    "\n",
    "nr_of_points_along_curve = 3 * 2**5 + 1\n",
    "nr_of_points_across_curve = 3 * 2**2 + 1"
   ]
  },
  {
   "cell_type": "code",
   "execution_count": 10,
   "metadata": {},
   "outputs": [],
   "source": [
    "# Necessary NumPy functions\n",
    "\n",
    "np_functions = \\\n",
    "    {\n",
    "        'not': np.logical_not,\n",
    "        'and': np.logical_and,\n",
    "        'or': np.logical_or,\n",
    "        'all': np.all,\n",
    "        'any': np.any,\n",
    "        'min': np.minimum,\n",
    "        'max': np.maximum,\n",
    "        'abs': np.absolute,\n",
    "        'trunc': np.trunc,\n",
    "        'ceil': np.ceil,\n",
    "        'copysign': np.copysign,\n",
    "        'log10': np.log10,\n",
    "        'cos': np.cos,\n",
    "        'sin': np.sin,\n",
    "        'atan2': np.arctan2,\n",
    "        'pi': np.pi\n",
    "    }"
   ]
  },
  {
   "cell_type": "code",
   "execution_count": 11,
   "metadata": {},
   "outputs": [],
   "source": [
    "# Make a vector class that can hold all the points along the curve\n",
    "\n",
    "NP_3D_A1 = \\\n",
    "    create_class_Cartesian_3D_Vector(\n",
    "        name = 'NP_3D_A1',\n",
    "        component_names = [ 'x', 'y', 'z' ],\n",
    "        brackets = '<>',\n",
    "        sep = ', ',\n",
    "        cnull = np.zeros(nr_of_points_along_curve),\n",
    "        cunit = np.ones(nr_of_points_along_curve),\n",
    "        functions = np_functions\n",
    "    )"
   ]
  },
  {
   "cell_type": "code",
   "execution_count": 12,
   "metadata": {},
   "outputs": [],
   "source": [
    "# Calculate the points along the curve\n",
    "\n",
    "angles_along_curve = np.linspace(-np.pi, +np.pi, nr_of_points_along_curve, endpoint=True)\n",
    "\n",
    "p_o = \\\n",
    "    NP_3D_A1(\n",
    "        x = f_x(angles_along_curve),\n",
    "        y = f_y(angles_along_curve),\n",
    "        z = f_z(angles_along_curve)\n",
    "    )"
   ]
  },
  {
   "cell_type": "code",
   "execution_count": 13,
   "metadata": {},
   "outputs": [],
   "source": [
    "# Vectors from the first derivatives at the points along the curve\n",
    "\n",
    "v_d1 = \\\n",
    "    NP_3D_A1(\n",
    "        x = d1_f_x(angles_along_curve),\n",
    "        y = d1_f_y(angles_along_curve),\n",
    "        z = d1_f_z(angles_along_curve)\n",
    "    )"
   ]
  },
  {
   "cell_type": "code",
   "execution_count": 14,
   "metadata": {},
   "outputs": [],
   "source": [
    "# Vectors from the second derivatives at the points along the curve\n",
    "\n",
    "v_d2 = \\\n",
    "    NP_3D_A1(\n",
    "        x = d2_f_x(angles_along_curve),\n",
    "        y = d2_f_y(angles_along_curve),\n",
    "        z = d2_f_z(angles_along_curve)\n",
    "    )"
   ]
  },
  {
   "cell_type": "code",
   "execution_count": 15,
   "metadata": {},
   "outputs": [],
   "source": [
    "# Calculate the vectors for all the Frenet frames along the curve\n",
    "\n",
    "# Tangent vectors at the points along the curve\n",
    "v_t = v_d1.normalize()\n",
    "\n",
    "# Binormal vectors at the points along the curve\n",
    "v_b = v_d1.cross(v_d2).normalize()\n",
    "\n",
    "# Normal vectors at the points along the curve\n",
    "v_n = v_t.cross(v_b)"
   ]
  },
  {
   "cell_type": "code",
   "execution_count": 16,
   "metadata": {
    "scrolled": false
   },
   "outputs": [],
   "source": [
    "# For all the points along the curve, calculate points in a circle across the curve\n",
    "\n",
    "angles_across_curve = np.linspace(-np.pi, +np.pi, nr_of_points_across_curve, endpoint=True)\n",
    "\n",
    "tube_radius = 0.3\n",
    "\n",
    "surface_points = \\\n",
    "    [\n",
    "        p_o + v_n.axis_rotate(v_t, angle) * tube_radius\n",
    "#         p_o + v_n.axis_rotate(v_t, angle) * tube_radius * (3 + np.sin(2 * angle)) / 2\n",
    "        for angle in angles_across_curve\n",
    "    ]"
   ]
  },
  {
   "cell_type": "code",
   "execution_count": 17,
   "metadata": {
    "scrolled": false
   },
   "outputs": [],
   "source": [
    "# Show the trefoil knot tube\n",
    "\n",
    "fig = plt.figure(figsize=figure_size, dpi=figure_dpi)\n",
    "fig.text(0.01, 0.01, url)\n",
    "ax = Axes3D(fig)\n",
    "ax.set_aspect(1)\n",
    "ax.set_title('Trefoil Knot Tube')\n",
    "for j in range(nr_of_points_along_curve-1):\n",
    "    for i in range(nr_of_points_across_curve-1):\n",
    "        if i % 2 == 0:\n",
    "            facecolor = 'black'\n",
    "        else:\n",
    "            if j % 2 == 0:\n",
    "                facecolor = 'blue'\n",
    "            else:\n",
    "                facecolor = 'mediumturquoise'\n",
    "        x0, y0, z0 = surface_points[i  ]\n",
    "        x1, y1, z1 = surface_points[i+1]\n",
    "        p00 = (x0[j  ], y0[j  ], z0[j  ])\n",
    "        p01 = (x0[j+1], y0[j+1], z0[j+1])\n",
    "        p10 = (x1[j  ], y1[j  ], z1[j  ])\n",
    "        p11 = (x1[j+1], y1[j+1], z1[j+1])\n",
    "        triangle_a = Poly3DCollection([ [ p00, p10, p11 ] ])\n",
    "        triangle_a.set_facecolor(facecolor)\n",
    "        triangle_a.set_edgecolor('grey')\n",
    "        ax.add_collection3d(triangle_a)\n",
    "        triangle_b = Poly3DCollection([ [ p11, p01, p00 ] ])\n",
    "        triangle_b.set_color(facecolor)\n",
    "        triangle_b.set_edgecolor('grey')\n",
    "        ax.add_collection3d(triangle_b)\n",
    "ax.set_xlim(-3.5, +3.5)\n",
    "ax.set_ylim(-3.5, +3.5)\n",
    "ax.set_zlim(-3.5, +3.5)\n",
    "ax.set_xlabel('x-axis')\n",
    "ax.set_ylabel('y-axis')\n",
    "ax.set_zlabel('z-axis')\n",
    "ax.view_init(elev=90, azim=-120)\n",
    "\n",
    "plt.show()"
   ]
  },
  {
   "cell_type": "code",
   "execution_count": 18,
   "metadata": {},
   "outputs": [],
   "source": [
    "# Now do it in another way"
   ]
  },
  {
   "cell_type": "code",
   "execution_count": 19,
   "metadata": {},
   "outputs": [],
   "source": [
    "# Make a vector class that can hold all the points on the surface of the tube\n",
    "\n",
    "surface_shape = (nr_of_points_across_curve, nr_of_points_along_curve)\n",
    "zeros = np.zeros(surface_shape)\n",
    "ones = np.ones(surface_shape)\n",
    "\n",
    "NP_3D_A2 = \\\n",
    "    create_class_Cartesian_3D_Vector(\n",
    "        name = 'NP_3D_A2',\n",
    "        component_names = [ 'xx', 'yy', 'zz' ],\n",
    "        brackets = [ '<< ', ' >>' ],\n",
    "        sep = ', ',\n",
    "        cnull = zeros,\n",
    "        cunit = ones,\n",
    "        functions = np_functions\n",
    "    )"
   ]
  },
  {
   "cell_type": "code",
   "execution_count": 20,
   "metadata": {},
   "outputs": [],
   "source": [
    "# Verify that NumPy's array broadcasting works as needed\n",
    "\n",
    "A1_cunit = NP_3D_A1.component_unit()\n",
    "A2_cunit = NP_3D_A2.component_unit()\n",
    "\n",
    "assert (A2_cunit * A1_cunit).shape == surface_shape"
   ]
  },
  {
   "cell_type": "code",
   "execution_count": 21,
   "metadata": {},
   "outputs": [],
   "source": [
    "# Initialize position vectors for the points\n",
    "# (The 1D arrays are beeing broadcasted to 2D arrays)\n",
    "\n",
    "pp_o = \\\n",
    "    NP_3D_A2(\n",
    "        xx = p_o.x,\n",
    "        yy = p_o.y,\n",
    "        zz = p_o.z\n",
    "    )"
   ]
  },
  {
   "cell_type": "code",
   "execution_count": 22,
   "metadata": {},
   "outputs": [],
   "source": [
    "# Alternative ways to do the same\n",
    "\n",
    "# pp_o = \\\n",
    "#     NP_3D_A2(\n",
    "#         xx = A2_cunit * p_o.x,\n",
    "#         yy = A2_cunit * p_o.y,\n",
    "#         zz = A2_cunit * p_o.z\n",
    "#     )\n",
    "\n",
    "# tile_size = (nr_of_points_across_curve, 1)\n",
    "# pp_o = \\\n",
    "#     NP_3D_A2(\n",
    "#         xx = np.tile(p_o.x, tile_size),\n",
    "#         yy = np.tile(p_o.y, tile_size),\n",
    "#         zz = np.tile(p_o.z, tile_size)\n",
    "#     )"
   ]
  },
  {
   "cell_type": "code",
   "execution_count": 23,
   "metadata": {},
   "outputs": [],
   "source": [
    " # Initialize tangent, binormal and normal vectors\n",
    "\n",
    "vv_t = NP_3D_A2(xx=v_t.x, yy=v_t.y, zz=v_t.z)\n",
    "vv_b = NP_3D_A2(xx=v_b.x, yy=v_b.y, zz=v_b.z)\n",
    "vv_n = NP_3D_A2(xx=v_n.x, yy=v_n.y, zz=v_n.z)"
   ]
  },
  {
   "cell_type": "code",
   "execution_count": 24,
   "metadata": {},
   "outputs": [],
   "source": [
    "# Set up 2D arrays for angles along and across the curve\n",
    "\n",
    "angles_along, angles_across = np.meshgrid(angles_along_curve, angles_across_curve)"
   ]
  },
  {
   "cell_type": "code",
   "execution_count": 25,
   "metadata": {},
   "outputs": [],
   "source": [
    "# Calculate all the vectors along and across the curve towards the surface of the tube\n",
    "\n",
    "vv_s = vv_n.axis_rotate(vv_t, angles_across)"
   ]
  },
  {
   "cell_type": "code",
   "execution_count": 26,
   "metadata": {},
   "outputs": [],
   "source": [
    "# Prepare some variables for plotting\n",
    "\n",
    "no_labels = [ ]\n",
    "no_ticks = [ ]\n",
    "\n",
    "pi_labels = [ '-π', '', '-π/2', '', '0', '', '+π/2', '', '+π' ]\n",
    "pi_ticks = \\\n",
    "    [\n",
    "        n / 4 * np.pi\n",
    "        for n in [ -4, -3, -2, -1, 0, +1, +2, +3, +4 ]\n",
    "    ]\n",
    "\n",
    "vector_length = 0.5\n",
    "\n",
    "stride_along = 2\n",
    "stride_across = 1\n",
    "\n",
    "sl_along = slice(None, None, stride_along)\n",
    "sl_across = slice(None, None, stride_across)\n",
    "sl = (sl_across, sl_along)"
   ]
  },
  {
   "cell_type": "code",
   "execution_count": 27,
   "metadata": {},
   "outputs": [],
   "source": [
    "# Show some of the vectors calculated above\n",
    "\n",
    "fig = plt.figure(figsize=figure_size, dpi=figure_dpi)\n",
    "fig.text(0.01, 0.01, url)\n",
    "ax = Axes3D(fig)\n",
    "ax.set_title('Vectors towards surface')\n",
    "ax.scatter(\n",
    "    angles_along[sl], angles_across[sl], zeros[sl],\n",
    "    color = 'darkblue',\n",
    "    marker = '.',\n",
    "    edgecolors = 'face'\n",
    ")\n",
    "ax.plot_wireframe(\n",
    "    angles_along, angles_across, zeros,\n",
    "    rstride = 0,\n",
    "    cstride = stride_along,\n",
    "    color = 'cyan'\n",
    ")\n",
    "ax.plot_wireframe(\n",
    "    angles_along, angles_across, zeros,\n",
    "    rstride = stride_across,\n",
    "    cstride = 0,\n",
    "    color = 'deeppink'\n",
    ")\n",
    "ax.quiver(\n",
    "    angles_along[sl], angles_across[sl], zeros[sl],\n",
    "    vv_s.xx[sl], vv_s.yy[sl], vv_s.zz[sl],\n",
    "    length = vector_length,\n",
    "    pivot = 'tail',\n",
    "    color = 'gray'\n",
    ")\n",
    "ax.set_xlim(-np.pi-0.5, +np.pi+0.5)\n",
    "ax.set_ylim(-np.pi-0.5, +np.pi+0.5)\n",
    "ax.set_zlim(-np.pi-0.5, +np.pi+0.5)\n",
    "ax.set_xlabel('Angle along curve')\n",
    "ax.set_ylabel('Angle across curve')\n",
    "ax.set_xticklabels(pi_labels)\n",
    "ax.set_yticklabels(pi_labels)\n",
    "ax.set_zticklabels(no_labels)\n",
    "ax.set_xticks(pi_ticks)\n",
    "ax.set_yticks(pi_ticks)\n",
    "ax.set_zticks(no_ticks)\n",
    "ax.view_init(elev=36, azim=-60)\n",
    "plt.show()"
   ]
  },
  {
   "cell_type": "code",
   "execution_count": 28,
   "metadata": {},
   "outputs": [],
   "source": [
    "# Show some of the vectors calculated above\n",
    "\n",
    "pp_w = pp_o + vv_s *vector_length\n",
    "\n",
    "fig = plt.figure(figsize=figure_size, dpi=figure_dpi)\n",
    "fig.text(0.01, 0.01, url)\n",
    "ax = Axes3D(fig)\n",
    "ax.set_title('Vectors towards surface')\n",
    "ax.plot_wireframe(\n",
    "    pp_w.xx, pp_w.yy, pp_w.zz,\n",
    "    rstride = 0,\n",
    "    cstride = stride_along,\n",
    "    color = 'lightgray'\n",
    ")\n",
    "ax.plot(\n",
    "    p_o.x, p_o.y, p_o.z,\n",
    "    color = 'deeppink',\n",
    "    linewidth = 2\n",
    ")\n",
    "ax.plot_wireframe(\n",
    "    pp_w.xx, pp_w.yy, pp_w.zz,\n",
    "    rstride = stride_across,\n",
    "    cstride = 0,\n",
    "    color = 'lightgray'\n",
    ")\n",
    "ax.quiver(\n",
    "    pp_o.xx[sl], pp_o.yy[sl], pp_o.zz[sl],\n",
    "    vv_s.xx[sl], vv_s.yy[sl], vv_s.zz[sl],\n",
    "    length = vector_length,\n",
    "    pivot = 'tail',\n",
    "    color = 'gray'\n",
    ")\n",
    "ax.scatter(\n",
    "    p_o.x[sl_along], p_o.y[sl_along], p_o.z[sl_along],\n",
    "    color = 'cyan',\n",
    "    marker = 'o',\n",
    "    linewidth = 5\n",
    ")\n",
    "ax.set_xlabel('x-axis')\n",
    "ax.set_ylabel('y-axis')\n",
    "ax.set_zlabel('z-axis')\n",
    "ax.set_xlim(-4, +4)\n",
    "ax.set_ylim(-4, +4)\n",
    "ax.set_zlim(-4, +4)\n",
    "ax.view_init(elev=30, azim=-70)\n",
    "plt.show()"
   ]
  },
  {
   "cell_type": "code",
   "execution_count": 29,
   "metadata": {
    "scrolled": false
   },
   "outputs": [],
   "source": [
    "# Show the trefoil knot tube\n",
    "\n",
    "fig = plt.figure(figsize=figure_size, dpi=figure_dpi)\n",
    "fig.text(0.01, 0.01, url)\n",
    "ax = Axes3D(fig)\n",
    "ax.set_title('Trefoil Knot Tube with constant radius')\n",
    "for j in range(nr_of_points_along_curve-1):\n",
    "    for i in range(nr_of_points_across_curve-1):\n",
    "        k = (3 * i + j) % 6\n",
    "#         k = (2 * i + 3 * j) % 6\n",
    "        if k < 2:\n",
    "            color = 'mediumturquoise'\n",
    "        elif k < 4:\n",
    "            color = 'black'\n",
    "        else:\n",
    "            color = 'orchid'\n",
    "        c00 = (i  , j  )\n",
    "        c01 = (i  , j+1)\n",
    "        c10 = (i+1, j  )\n",
    "        c11 = (i+1, j+1)\n",
    "        p00 = (pp_w.xx[c00], pp_w.yy[c00], pp_w.zz[c00])\n",
    "        p01 = (pp_w.xx[c01], pp_w.yy[c01], pp_w.zz[c01])\n",
    "        p10 = (pp_w.xx[c10], pp_w.yy[c10], pp_w.zz[c10])\n",
    "        p11 = (pp_w.xx[c11], pp_w.yy[c11], pp_w.zz[c11])\n",
    "        triangle_a = Poly3DCollection([ [ p00, p10, p11 ] ])\n",
    "        triangle_a.set_color(color)\n",
    "        ax.add_collection3d(triangle_a)\n",
    "        triangle_b = Poly3DCollection([ [ p11, p01, p00 ] ])\n",
    "        triangle_b.set_color(color)\n",
    "        ax.add_collection3d(triangle_b)\n",
    "ax.set_xlabel('x-axis')\n",
    "ax.set_ylabel('y-axis')\n",
    "ax.set_zlabel('z-axis')\n",
    "ax.set_xlim(-4, +4)\n",
    "ax.set_ylim(-4, +4)\n",
    "ax.set_zlim(-4, +4)\n",
    "ax.view_init(elev=90, azim=-120)\n",
    "\n",
    "plt.show()"
   ]
  },
  {
   "cell_type": "code",
   "execution_count": 30,
   "metadata": {},
   "outputs": [],
   "source": [
    "# Calculate all the radii for the tube along and across the curve\n",
    "\n",
    "rr = (4 + 2 * np.sin(2 * angles_across)) * (6 + 3 * np.cos(3 * angles_along)) / 90\n",
    "\n",
    "assert rr.shape == surface_shape"
   ]
  },
  {
   "cell_type": "code",
   "execution_count": 31,
   "metadata": {},
   "outputs": [],
   "source": [
    "# Show the varying radii calculated above\n",
    "\n",
    "fig = plt.figure(figsize=figure_size, dpi=figure_dpi)\n",
    "fig.text(0.01, 0.01, url)\n",
    "ax = Axes3D(fig)\n",
    "ax.set_title('Radii of Trefoil Knot Tube')\n",
    "ax.plot_wireframe(angles_along, angles_across, rr, color='crimson')\n",
    "ax.set_xlabel('Angle along curve')\n",
    "ax.set_ylabel('Angle across curve')\n",
    "ax.set_zlabel('Radius')\n",
    "ax.set_xlim(-np.pi, +np.pi)\n",
    "ax.set_ylim(-np.pi, +np.pi)\n",
    "ax.set_xticklabels(pi_labels)\n",
    "ax.set_yticklabels(pi_labels)\n",
    "ax.set_xticks(pi_ticks)\n",
    "ax.set_yticks(pi_ticks)\n",
    "ax.view_init(elev=40, azim=-60)\n",
    "plt.show()"
   ]
  },
  {
   "cell_type": "code",
   "execution_count": 32,
   "metadata": {},
   "outputs": [],
   "source": [
    "# Calculate all the position vectors for the points on the surface of the tube\n",
    "\n",
    "pp_s = pp_o + vv_s * rr"
   ]
  },
  {
   "cell_type": "code",
   "execution_count": 33,
   "metadata": {},
   "outputs": [],
   "source": [
    "# Show the trefoil knot tube\n",
    "\n",
    "fig = plt.figure(figsize=figure_size, dpi=figure_dpi)\n",
    "fig.text(0.01, 0.01, url)\n",
    "ax = Axes3D(fig)\n",
    "ax.set_title('Trefoil Knot Tube with varying radius')\n",
    "ax.plot_wireframe(*pp_s, color='deeppink')\n",
    "ax.set_xlabel('x-axis')\n",
    "ax.set_ylabel('y-axis')\n",
    "ax.set_zlabel('z-axis')\n",
    "ax.set_xlim(-4, +4)\n",
    "ax.set_ylim(-4, +4)\n",
    "ax.set_zlim(-4, +4)\n",
    "ax.view_init(elev=90, azim=-120)\n",
    "plt.show()"
   ]
  },
  {
   "cell_type": "code",
   "execution_count": 34,
   "metadata": {},
   "outputs": [],
   "source": [
    "# Show the trefoil knot tube\n",
    "\n",
    "tri = \\\n",
    "    mtri.Triangulation(\n",
    "        angles_along.flatten(),\n",
    "        angles_across.flatten()\n",
    "    )\n",
    "\n",
    "fig = plt.figure(figsize=figure_size, dpi=figure_dpi)\n",
    "fig.text(0.01, 0.01, url)\n",
    "ax = Axes3D(fig)\n",
    "ax.set_title('Trefoil Knot Tube with varying radius')\n",
    "ax.plot_trisurf(\n",
    "    pp_s.xx.flatten(),\n",
    "    pp_s.yy.flatten(),\n",
    "    pp_s.zz.flatten(),\n",
    "    triangles = tri.triangles,\n",
    "    cmap = plt.cm.Spectral\n",
    ")\n",
    "ax.set_xlabel('x-axis')\n",
    "ax.set_ylabel('y-axis')\n",
    "ax.set_zlabel('z-axis')\n",
    "ax.set_xlim(-4, +4)\n",
    "ax.set_ylim(-4, +4)\n",
    "ax.set_zlim(-4, +4)\n",
    "ax.view_init(elev=90, azim=-120)\n",
    "plt.show()"
   ]
  },
  {
   "cell_type": "code",
   "execution_count": 35,
   "metadata": {},
   "outputs": [],
   "source": [
    "# Show the trefoil knot tube\n",
    "\n",
    "fig = plt.figure(figsize=figure_size, dpi=figure_dpi)\n",
    "fig.text(0.01, 0.01, url)\n",
    "ax = Axes3D(fig)\n",
    "ax.set_title('Trefoil Knot Tube with varying radius')\n",
    "for j in range(nr_of_points_along_curve-1):\n",
    "    for i in range(nr_of_points_across_curve-1):\n",
    "        if i % 2 == 0:\n",
    "#         if (i + j) % 2 == 0:\n",
    "            color = 'navy'\n",
    "        else:\n",
    "            if j % 2 == 0:\n",
    "                color = 'lightseagreen'\n",
    "            else:\n",
    "                color = 'deeppink'\n",
    "        p00 = pp_s(lambda cv: cv[i  , j  ])\n",
    "        p01 = pp_s(lambda cv: cv[i  , j+1])\n",
    "        p10 = pp_s(lambda cv: cv[i+1, j  ])\n",
    "        p11 = pp_s(lambda cv: cv[i+1, j+1])\n",
    "        triangle_a = Poly3DCollection([ [ p00, p10, p11 ] ])\n",
    "        triangle_a.set_color(color)\n",
    "        ax.add_collection3d(triangle_a)\n",
    "        triangle_b = Poly3DCollection([ [ p11, p01, p00 ] ])\n",
    "        triangle_b.set_color(color)\n",
    "        ax.add_collection3d(triangle_b)\n",
    "ax.set_xlabel('x-axis')\n",
    "ax.set_ylabel('y-axis')\n",
    "ax.set_zlabel('z-axis')\n",
    "ax.set_xlim(-4, +4)\n",
    "ax.set_ylim(-4, +4)\n",
    "ax.set_zlim(-4, +4)\n",
    "ax.view_init(elev=90, azim=-120)\n",
    "plt.show()"
   ]
  },
  {
   "cell_type": "code",
   "execution_count": null,
   "metadata": {},
   "outputs": [],
   "source": []
  }
 ],
 "metadata": {
  "kernelspec": {
   "display_name": "Python 3",
   "language": "python",
   "name": "python3"
  },
  "language_info": {
   "codemirror_mode": {
    "name": "ipython",
    "version": 3
   },
   "file_extension": ".py",
   "mimetype": "text/x-python",
   "name": "python",
   "nbconvert_exporter": "python",
   "pygments_lexer": "ipython3",
   "version": "3.6.7"
  }
 },
 "nbformat": 4,
 "nbformat_minor": 2
}
